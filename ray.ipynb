{
 "cells": [
  {
   "cell_type": "code",
   "execution_count": 1,
   "id": "bacterial-prevention",
   "metadata": {},
   "outputs": [],
   "source": [
    "import ray"
   ]
  },
  {
   "cell_type": "code",
   "execution_count": 2,
   "id": "successful-accountability",
   "metadata": {},
   "outputs": [
    {
     "name": "stderr",
     "output_type": "stream",
     "text": [
      "2021-02-02 14:59:58,237\tINFO services.py:1171 -- View the Ray dashboard at \u001b[1m\u001b[32mhttp://127.0.0.1:8265\u001b[39m\u001b[22m\n"
     ]
    },
    {
     "data": {
      "text/plain": [
       "{'node_ip_address': '192.168.2.40',\n",
       " 'raylet_ip_address': '192.168.2.40',\n",
       " 'redis_address': '192.168.2.40:6379',\n",
       " 'object_store_address': '/tmp/ray/session_2021-02-02_14-59-57_843443_4550/sockets/plasma_store',\n",
       " 'raylet_socket_name': '/tmp/ray/session_2021-02-02_14-59-57_843443_4550/sockets/raylet',\n",
       " 'webui_url': '127.0.0.1:8265',\n",
       " 'session_dir': '/tmp/ray/session_2021-02-02_14-59-57_843443_4550',\n",
       " 'metrics_export_port': 63452,\n",
       " 'node_id': '86466867348fb4cef35aaa5dead92899907ace92'}"
      ]
     },
     "execution_count": 2,
     "metadata": {},
     "output_type": "execute_result"
    }
   ],
   "source": [
    "ray.init()"
   ]
  },
  {
   "cell_type": "code",
   "execution_count": 3,
   "id": "secure-terrorism",
   "metadata": {},
   "outputs": [],
   "source": [
    "@ray.remote\n",
    "def remote_function():\n",
    "    return 1"
   ]
  },
  {
   "cell_type": "code",
   "execution_count": 4,
   "id": "operational-bicycle",
   "metadata": {},
   "outputs": [],
   "source": [
    "object_ids = []\n",
    "for _ in range(4):\n",
    "    y_id = remote_function.remote()\n",
    "    object_ids.append(y_id)"
   ]
  },
  {
   "cell_type": "code",
   "execution_count": 5,
   "id": "informational-submission",
   "metadata": {},
   "outputs": [],
   "source": [
    "objects = ray.get(object_ids)"
   ]
  },
  {
   "cell_type": "code",
   "execution_count": 6,
   "id": "worse-shadow",
   "metadata": {},
   "outputs": [
    {
     "data": {
      "text/plain": [
       "[1, 1, 1, 1]"
      ]
     },
     "execution_count": 6,
     "metadata": {},
     "output_type": "execute_result"
    }
   ],
   "source": [
    "objects"
   ]
  },
  {
   "cell_type": "code",
   "execution_count": 7,
   "id": "hazardous-equilibrium",
   "metadata": {},
   "outputs": [],
   "source": [
    "@ray.remote\n",
    "class Counter:\n",
    "    def __init__(self):\n",
    "        self.value = 0\n",
    "    def increment(self):\n",
    "        self.value += 1\n",
    "        return self.value"
   ]
  },
  {
   "cell_type": "code",
   "execution_count": 8,
   "id": "impaired-ethnic",
   "metadata": {},
   "outputs": [],
   "source": [
    "a = Counter.remote()"
   ]
  },
  {
   "cell_type": "code",
   "execution_count": 9,
   "id": "responsible-accident",
   "metadata": {},
   "outputs": [],
   "source": [
    "obj_id = a.increment.remote()"
   ]
  },
  {
   "cell_type": "code",
   "execution_count": 10,
   "id": "increasing-finnish",
   "metadata": {},
   "outputs": [
    {
     "data": {
      "text/plain": [
       "True"
      ]
     },
     "execution_count": 10,
     "metadata": {},
     "output_type": "execute_result"
    }
   ],
   "source": [
    "ray.get(obj_id) == 1"
   ]
  },
  {
   "cell_type": "code",
   "execution_count": null,
   "id": "employed-meditation",
   "metadata": {},
   "outputs": [],
   "source": []
  }
 ],
 "metadata": {
  "kernelspec": {
   "display_name": "Python 3",
   "language": "python",
   "name": "python3"
  },
  "language_info": {
   "codemirror_mode": {
    "name": "ipython",
    "version": 3
   },
   "file_extension": ".py",
   "mimetype": "text/x-python",
   "name": "python",
   "nbconvert_exporter": "python",
   "pygments_lexer": "ipython3",
   "version": "3.8.6"
  }
 },
 "nbformat": 4,
 "nbformat_minor": 5
}
