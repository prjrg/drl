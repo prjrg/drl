{
 "cells": [
  {
   "cell_type": "code",
   "execution_count": 1,
   "id": "threatened-judges",
   "metadata": {},
   "outputs": [],
   "source": [
    "import numpy as np\n",
    "import gym"
   ]
  },
  {
   "cell_type": "code",
   "execution_count": 16,
   "id": "caring-thomas",
   "metadata": {},
   "outputs": [],
   "source": [
    "class FoodTruck(gym.Env):\n",
    "    def __init__(self):\n",
    "        self.v_demand = [100, 200, 300, 400]\n",
    "        self.p_demand = [0.3, 0.4, 0.2, 0.1]\n",
    "        self.capacity = self.v_demand[-1]\n",
    "        self.days = ['Mon', 'Tue', 'Wed', 'Thu', 'Fri', 'Weekend']\n",
    "        self.unit_cost = 4\n",
    "        self.net_revenue = 7\n",
    "        self.action_space = [0, 100, 200, 300, 400]\n",
    "        self.state_space = [(\"Mon\", 0)] + [(d, i) for d in self.days[1:] for i in [0, 100, 200, 300]]\n",
    "        \n",
    "    def get_next_state_reward(self, state, action, demand):\n",
    "        day, inventory = state\n",
    "        result = {}\n",
    "        result['next_day'] = self.days[self.days.index(day) + 1]\n",
    "        result['starting_inventory'] = min(self.capacity, inventory + action)\n",
    "        result['cost'] = self.unit_cost * action\n",
    "        result['sales'] = min(result['starting_inventory'], demand)\n",
    "        result['revenue'] = self.net_revenue * result['sales']\n",
    "        result['next_inventory'] = result['starting_inventory'] - result['sales']\n",
    "        result['reward'] = result['revenue'] - result['cost']\n",
    "        return result\n",
    "    \n",
    "    def get_transition_prob(self, state, action):\n",
    "        next_s_r_prob = {}\n",
    "        for ix, demand in enumerate(self.v_demand):\n",
    "            result = self.get_next_state_reward(state, action, demand)\n",
    "            next_s = (result['next_day'], result['next_inventory'])\n",
    "            reward = result['reward']\n",
    "            prob = self.p_demand[ix]\n",
    "            if (next_s, reward) not in next_s_r_prob:\n",
    "                next_s_r_prob[next_s, reward] = prob\n",
    "            else:\n",
    "                next_s_r_prob[next_s, reward] += prob\n",
    "        return next_s_r_prob\n",
    "    \n",
    "    def reset(self):\n",
    "        self.day = \"Mon\"\n",
    "        self.inventory = 0\n",
    "        state = (self.day, self.inventory)\n",
    "        return state\n",
    "    \n",
    "    def is_terminal(self, state):\n",
    "        day, inventory = state\n",
    "        if day == \"Weekend\":\n",
    "            return True\n",
    "        else:\n",
    "            return False\n",
    "        \n",
    "    def step(self, action):\n",
    "        demand = np.random.choice(self.v_demand, p=self.p_demand)\n",
    "        result = self.get_next_state_reward((self.day, self.inventory), action, demand)\n",
    "        self.day = result['next_day']\n",
    "        self.inventory = result['next_inventory']\n",
    "        state = (self.day, self.inventory)\n",
    "        reward = result['reward']\n",
    "        done = self.is_terminal(state)\n",
    "        info = {'demand': demand, 'sales': result['sales']}\n",
    "        return state, reward, done, info"
   ]
  },
  {
   "cell_type": "code",
   "execution_count": 17,
   "id": "assured-dance",
   "metadata": {},
   "outputs": [],
   "source": [
    "def base_policy(states):\n",
    "    policy = {}\n",
    "    for s in states:\n",
    "        day, inventory = s\n",
    "        prob_a = {}\n",
    "        if inventory >= 300:\n",
    "            prob_a[0] = 1\n",
    "        else:\n",
    "            prob_a[200 - inventory] = 0.5\n",
    "            prob_a[300 - inventory] = 0.5\n",
    "        policy[s] = prob_a\n",
    "    return policy"
   ]
  },
  {
   "cell_type": "code",
   "execution_count": 18,
   "id": "direct-width",
   "metadata": {},
   "outputs": [],
   "source": [
    "def expected_update(env, v, s, prob_a, gamma):\n",
    "    expected_value = 0\n",
    "    for a in prob_a:\n",
    "        prob_next_s_r = env.get_transition_prob(s, a)\n",
    "        for next_s, r in prob_next_s_r:\n",
    "            expected_value += prob_a[a] * prob_next_s_r[next_s, r] * (r + gamma * v[next_s])\n",
    "    return expected_value"
   ]
  },
  {
   "cell_type": "code",
   "execution_count": 19,
   "id": "stone-reception",
   "metadata": {},
   "outputs": [],
   "source": [
    "def policy_evaluation(env, policy, max_iter=100, v=None, eps=0.1, gamma=1):\n",
    "    if not v:\n",
    "        v = {s: 0 for s in env.state_space}\n",
    "    k = 0\n",
    "    while True:\n",
    "        max_delta = 0\n",
    "        for s in v:\n",
    "            if not env.is_terminal(s):\n",
    "                v_old = v[s]\n",
    "                prob_a = policy[s]\n",
    "                v[s] = expected_update(env, v, s, prob_a, gamma)\n",
    "                max_delta = max(max_delta, abs(v[s] - v_old))\n",
    "        k += 1\n",
    "        if max_delta < eps:\n",
    "            print(\"Converged in \", k, \" iterations.\")\n",
    "            break\n",
    "        elif k == max_iter:\n",
    "            print(\"Terminating after \", k, \" iterations.\")\n",
    "            break\n",
    "    return v"
   ]
  },
  {
   "cell_type": "code",
   "execution_count": 20,
   "id": "medical-stress",
   "metadata": {},
   "outputs": [],
   "source": [
    "foodtruck = FoodTruck()\n",
    "policy = base_policy(foodtruck.state_space)"
   ]
  },
  {
   "cell_type": "code",
   "execution_count": 21,
   "id": "million-dryer",
   "metadata": {},
   "outputs": [
    {
     "name": "stdout",
     "output_type": "stream",
     "text": [
      "Converged in  6  iterations.\n",
      "Expected weekly profit: 2515.0\n"
     ]
    }
   ],
   "source": [
    "#TODO Implement is_terminal for FoodTruck\n",
    "v = policy_evaluation(foodtruck, policy)\n",
    "print(\"Expected weekly profit:\", v[\"Mon\", 0])"
   ]
  },
  {
   "cell_type": "code",
   "execution_count": 22,
   "id": "conservative-education",
   "metadata": {},
   "outputs": [],
   "source": [
    "def choose_action(state, policy):\n",
    "    prob_a = policy[state]\n",
    "    action = np.random.choice(a=list(prob_a.keys()), p=list(prob_a.values()))\n",
    "    return action"
   ]
  },
  {
   "cell_type": "code",
   "execution_count": 23,
   "id": "wound-murder",
   "metadata": {},
   "outputs": [],
   "source": [
    "def simulate_policy(policy, n_episodes):\n",
    "    np.random.seed(0)\n",
    "    foodtruck = FoodTruck()\n",
    "    rewards = []\n",
    "    for i_episode in range(n_episodes):\n",
    "        state = foodtruck.reset()\n",
    "        done = False\n",
    "        ep_reward = 0\n",
    "        while not done:\n",
    "            action = choose_action(state, policy)\n",
    "            state, reward, done, info = foodtruck.step(action)\n",
    "            ep_reward += reward\n",
    "        rewards.append(ep_reward)\n",
    "    print(\"Expected weekly profit:\", np.mean(rewards))"
   ]
  },
  {
   "cell_type": "code",
   "execution_count": 24,
   "id": "selected-nashville",
   "metadata": {},
   "outputs": [
    {
     "name": "stdout",
     "output_type": "stream",
     "text": [
      "Expected weekly profit: 2518.1\n"
     ]
    }
   ],
   "source": [
    "simulate_policy(policy, 1000)"
   ]
  },
  {
   "cell_type": "code",
   "execution_count": 25,
   "id": "governmental-employment",
   "metadata": {},
   "outputs": [],
   "source": [
    "def policy_improvement(env, v, s, actions, gamma):\n",
    "    prob_a = {}\n",
    "    if not env.is_terminal(s):\n",
    "        max_q = np.NINF\n",
    "        best_a = None\n",
    "        for a in actions:\n",
    "            q_sa = expected_update(env, v, s, {a: 1}, gamma)\n",
    "            if q_sa >= max_q:\n",
    "                max_q = q_sa\n",
    "                best_a = a\n",
    "        prob_a[best_a] = 1\n",
    "    else:\n",
    "        max_q = 0\n",
    "    return prob_a, max_q"
   ]
  },
  {
   "cell_type": "code",
   "execution_count": 26,
   "id": "forward-secondary",
   "metadata": {},
   "outputs": [],
   "source": [
    "def policy_iteration(env, eps=0.1, gamma=1):\n",
    "    np.random.seed(1)\n",
    "    states = env.state_space\n",
    "    actions = env.action_space\n",
    "    policy = {s: {np.random.choice(actions): 1} for s in states}\n",
    "    v = {s: 0 for s in states}\n",
    "    while True:\n",
    "        v = policy_evaluation(env, policy, v=v, eps=eps, gamma=gamma)\n",
    "        old_policy = policy\n",
    "        policy = {}\n",
    "        for s in states:\n",
    "            policy[s], _ = policy_improvement(env, v, s, actions, gamma)\n",
    "        if old_policy == policy:\n",
    "            break\n",
    "    print(\"Optimal policy found\")\n",
    "    return policy, v"
   ]
  },
  {
   "cell_type": "code",
   "execution_count": null,
   "id": "alive-positive",
   "metadata": {},
   "outputs": [],
   "source": []
  }
 ],
 "metadata": {
  "kernelspec": {
   "display_name": "Python 3",
   "language": "python",
   "name": "python3"
  },
  "language_info": {
   "codemirror_mode": {
    "name": "ipython",
    "version": 3
   },
   "file_extension": ".py",
   "mimetype": "text/x-python",
   "name": "python",
   "nbconvert_exporter": "python",
   "pygments_lexer": "ipython3",
   "version": "3.8.6"
  }
 },
 "nbformat": 4,
 "nbformat_minor": 5
}
