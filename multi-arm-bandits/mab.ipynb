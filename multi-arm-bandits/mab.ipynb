{
 "cells": [
  {
   "cell_type": "code",
   "execution_count": 1,
   "id": "vietnamese-emerald",
   "metadata": {},
   "outputs": [],
   "source": [
    "import numpy as np"
   ]
  },
  {
   "cell_type": "code",
   "execution_count": 6,
   "id": "tender-sudan",
   "metadata": {},
   "outputs": [],
   "source": [
    "class GaussianBandit:\n",
    "    def __init__(self, mean=0, stdev=1):\n",
    "        self.mean = mean\n",
    "        self.stdev = stdev\n",
    "        \n",
    "    def pull_lever(self):\n",
    "        reward = np.random.normal(self.mean, self.stdev)\n",
    "        return np.round(reward, 1)"
   ]
  },
  {
   "cell_type": "code",
   "execution_count": 7,
   "id": "artistic-jason",
   "metadata": {},
   "outputs": [],
   "source": [
    "class GaussianBanditGame:\n",
    "    def __init__(self, bandits):\n",
    "        self.bandits = bandits\n",
    "        np.random.shuffle(self.bandits)\n",
    "        self.reset_game()\n",
    "        \n",
    "    def play(self, choice):\n",
    "        reward = self.bandits[choice - 1].pull_lever()\n",
    "        self.rewards.append(reward)\n",
    "        self.total_reward += reward\n",
    "        self.n_played += 1\n",
    "        return reward\n",
    "    \n",
    "    def user_play(self):\n",
    "        self.reset_game()\n",
    "        print(\"Game started. \" + \"Enter 0 as input to end the game.\")\n",
    "        while True:\n",
    "            print(f\"\\n -- Round {self.n_played}\")\n",
    "            choice = int(input(f\"Choose a machine \" + f\"from 1 to {len(self.bandits)}: \"))\n",
    "            if choice in range(1, len(self.bandits) + 1):\n",
    "                reward = self.play(choice)\n",
    "                print(f\"Machine {choice} gave \" + f\"a reward of {reward}.\")\n",
    "                avg_rew = self.total_reward / self.n_played\n",
    "                print(f\"Your average reward \" + f\"so far is {avg_rew}.\")\n",
    "            else:\n",
    "                break\n",
    "        print(\"Game has ended\")\n",
    "        if self.n_played > 0:\n",
    "            print(f\"Total reward is {self.total_reward}\" + f\" after {self.n_played} round(s).\")\n",
    "            avg_rew = self.total_reward / self.n_played\n",
    "            print(f\"Average reward is {avg_rew}.\")\n",
    "            \n",
    "    def reset_game(self):\n",
    "        self.rewards = []\n",
    "        self.total_reward = 0\n",
    "        self.n_played = 0"
   ]
  },
  {
   "cell_type": "code",
   "execution_count": 8,
   "id": "accompanied-apollo",
   "metadata": {},
   "outputs": [],
   "source": [
    "slotA = GaussianBandit(5, 3)\n",
    "slotB = GaussianBandit(6, 2)\n",
    "slotC = GaussianBandit(1, 5)\n",
    "game = GaussianBanditGame([slotA, slotB, slotC])"
   ]
  },
  {
   "cell_type": "code",
   "execution_count": null,
   "id": "complicated-heath",
   "metadata": {},
   "outputs": [
    {
     "name": "stdout",
     "output_type": "stream",
     "text": [
      "Game started. Enter 0 as input to end the game.\n",
      "\n",
      " -- Round 0\n",
      "Choose a machine from 1 to 3: 1\n",
      "Machine 1 gave a reward of 5.5.\n",
      "Your average reward so far is 5.5.\n",
      "\n",
      " -- Round 1\n"
     ]
    }
   ],
   "source": [
    "game.user_play()"
   ]
  },
  {
   "cell_type": "code",
   "execution_count": null,
   "id": "shared-lounge",
   "metadata": {},
   "outputs": [],
   "source": []
  }
 ],
 "metadata": {
  "kernelspec": {
   "display_name": "Python 3",
   "language": "python",
   "name": "python3"
  },
  "language_info": {
   "codemirror_mode": {
    "name": "ipython",
    "version": 3
   },
   "file_extension": ".py",
   "mimetype": "text/x-python",
   "name": "python",
   "nbconvert_exporter": "python",
   "pygments_lexer": "ipython3",
   "version": "3.8.6"
  }
 },
 "nbformat": 4,
 "nbformat_minor": 5
}
