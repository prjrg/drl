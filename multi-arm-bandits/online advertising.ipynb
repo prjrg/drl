{
 "cells": [
  {
   "cell_type": "code",
   "execution_count": 1,
   "id": "tested-pricing",
   "metadata": {},
   "outputs": [],
   "source": [
    "import numpy as np"
   ]
  },
  {
   "cell_type": "code",
   "execution_count": 2,
   "id": "integrated-alfred",
   "metadata": {},
   "outputs": [],
   "source": [
    "class BernoulliBandit:\n",
    "    def __init__(self, p):\n",
    "        self.p = p\n",
    "    def display_ad(self):\n",
    "        return np.random.binomial(n=1, p=self.p)"
   ]
  },
  {
   "cell_type": "code",
   "execution_count": 3,
   "id": "native-warren",
   "metadata": {},
   "outputs": [],
   "source": [
    "adA = BernoulliBandit(0.004)\n",
    "adB = BernoulliBandit(0.016)\n",
    "adC = BernoulliBandit(0.02)\n",
    "adD = BernoulliBandit(0.028)\n",
    "adE = BernoulliBandit(0.031)\n",
    "ads = [adA, adB, adC, adD, adE]"
   ]
  },
  {
   "cell_type": "markdown",
   "id": "occasional-tract",
   "metadata": {},
   "source": [
    "## A/B/n testing"
   ]
  },
  {
   "cell_type": "code",
   "execution_count": 4,
   "id": "underlying-cabin",
   "metadata": {},
   "outputs": [],
   "source": [
    "n_test = 10000"
   ]
  },
  {
   "cell_type": "code",
   "execution_count": 5,
   "id": "anticipated-substitute",
   "metadata": {},
   "outputs": [],
   "source": [
    "n_prod = 90000"
   ]
  },
  {
   "cell_type": "code",
   "execution_count": 6,
   "id": "former-intervention",
   "metadata": {},
   "outputs": [],
   "source": [
    "n_ads = len(ads)"
   ]
  },
  {
   "cell_type": "code",
   "execution_count": 7,
   "id": "spread-worcester",
   "metadata": {},
   "outputs": [],
   "source": [
    "Q = np.zeros(n_ads)\n",
    "N = np.zeros(n_ads)\n",
    "total_reward = 0\n",
    "avg_rewards = []"
   ]
  },
  {
   "cell_type": "code",
   "execution_count": 8,
   "id": "promotional-things",
   "metadata": {},
   "outputs": [],
   "source": [
    "for i in range(n_test):\n",
    "    ad_chosen = np.random.randint(n_ads)\n",
    "    R = ads[ad_chosen].display_ad()\n",
    "    N[ad_chosen] += 1\n",
    "    Q[ad_chosen] += (1 / N[ad_chosen]) * (R - Q[ad_chosen])\n",
    "    total_reward += R\n",
    "    avg_reward_so_far = total_reward / (i + 1)\n",
    "    avg_rewards.append(avg_reward_so_far)"
   ]
  },
  {
   "cell_type": "code",
   "execution_count": 9,
   "id": "therapeutic-solomon",
   "metadata": {},
   "outputs": [],
   "source": [
    "best_ad_index = np.argmax(Q)"
   ]
  },
  {
   "cell_type": "code",
   "execution_count": 10,
   "id": "mineral-think",
   "metadata": {},
   "outputs": [
    {
     "name": "stdout",
     "output_type": "stream",
     "text": [
      "The best performing ad is E\n"
     ]
    }
   ],
   "source": [
    "print(\"The best performing ad is {}\".format(chr(ord('A') + best_ad_index)))"
   ]
  },
  {
   "cell_type": "code",
   "execution_count": 11,
   "id": "handmade-remark",
   "metadata": {},
   "outputs": [],
   "source": [
    "ad_chosen = best_ad_index"
   ]
  },
  {
   "cell_type": "code",
   "execution_count": 12,
   "id": "atmospheric-effects",
   "metadata": {},
   "outputs": [],
   "source": [
    "for i in range(n_prod):\n",
    "    R = ads[ad_chosen].display_ad()\n",
    "    N[ad_chosen] += 1\n",
    "    Q[ad_chosen] += (1 / N[ad_chosen]) * (R - Q[ad_chosen])\n",
    "    total_reward += R\n",
    "    avg_reward_so_far = total_reward / (i + 1)\n",
    "    avg_rewards.append(avg_reward_so_far)"
   ]
  },
  {
   "cell_type": "code",
   "execution_count": 13,
   "id": "structural-proposal",
   "metadata": {},
   "outputs": [],
   "source": [
    "import pandas as pd"
   ]
  },
  {
   "cell_type": "code",
   "execution_count": 14,
   "id": "abroad-lucas",
   "metadata": {},
   "outputs": [],
   "source": [
    "df_reward_comparison = pd.DataFrame(avg_rewards, columns=['A/B/n'])"
   ]
  },
  {
   "cell_type": "code",
   "execution_count": 15,
   "id": "ambient-chemistry",
   "metadata": {},
   "outputs": [],
   "source": [
    "import cufflinks as cf\n",
    "import plotly.offline"
   ]
  },
  {
   "cell_type": "code",
   "execution_count": 16,
   "id": "dated-humidity",
   "metadata": {},
   "outputs": [
    {
     "data": {
      "text/html": [
       "        <script type=\"text/javascript\">\n",
       "        window.PlotlyConfig = {MathJaxConfig: 'local'};\n",
       "        if (window.MathJax) {MathJax.Hub.Config({SVG: {font: \"STIX-Web\"}});}\n",
       "        if (typeof require !== 'undefined') {\n",
       "        require.undef(\"plotly\");\n",
       "        requirejs.config({\n",
       "            paths: {\n",
       "                'plotly': ['https://cdn.plot.ly/plotly-latest.min']\n",
       "            }\n",
       "        });\n",
       "        require(['plotly'], function(Plotly) {\n",
       "            window._Plotly = Plotly;\n",
       "        });\n",
       "        }\n",
       "        </script>\n",
       "        "
      ]
     },
     "metadata": {},
     "output_type": "display_data"
    }
   ],
   "source": [
    "cf.go_offline()"
   ]
  },
  {
   "cell_type": "code",
   "execution_count": null,
   "id": "minor-stamp",
   "metadata": {},
   "outputs": [],
   "source": [
    "cf.set_config_file(world_readable=True, theme=\"white\")\n",
    "df_reward_comparison['A/B/n'].iplot(title=\"A/B/n Test Avg. Reward {:.4f}\".format(avg_reward_so_far), xTitle='Impressions', yTitle='Avg. Reward')"
   ]
  },
  {
   "cell_type": "code",
   "execution_count": 34,
   "id": "matched-crack",
   "metadata": {},
   "outputs": [],
   "source": [
    "eps = 0.2\n",
    "n_prod = 100000"
   ]
  },
  {
   "cell_type": "code",
   "execution_count": 35,
   "id": "middle-ancient",
   "metadata": {},
   "outputs": [],
   "source": [
    "n_ads = len(ads)\n",
    "Q = np.zeros(n_ads)\n",
    "N = np.zeros(n_ads)\n",
    "total_reward = 0\n",
    "avg_rewards = []"
   ]
  },
  {
   "cell_type": "code",
   "execution_count": 36,
   "id": "collective-aberdeen",
   "metadata": {},
   "outputs": [],
   "source": [
    "ad_chosen = np.random.randint(n_ads)"
   ]
  },
  {
   "cell_type": "code",
   "execution_count": 37,
   "id": "neural-flight",
   "metadata": {},
   "outputs": [],
   "source": [
    "for i in range(n_prod):\n",
    "    R = ads[ad_chosen].display_ad()\n",
    "    N[ad_chosen] += 1\n",
    "    Q[ad_chosen] += (1 / N[ad_chosen]) * (R - Q[ad_chosen])\n",
    "    total_reward += R\n",
    "    avg_rewards_so_far = total_reward / (i + 1)\n",
    "    avg_rewards.append(avg_rewards_so_far)\n",
    "\n",
    "    if np.random.uniform() <= eps:\n",
    "        ad_chosen = np.random.randint(n_ads)\n",
    "    else:\n",
    "        ad_chosen = np.argmax(Q)\n",
    "\n",
    "df_reward_comparison['e-greedy: {}'.format(eps)] = avg_rewards"
   ]
  },
  {
   "cell_type": "code",
   "execution_count": 38,
   "id": "fewer-season",
   "metadata": {},
   "outputs": [],
   "source": [
    "greedy_list = ['e-greedy: 0.01', 'e-greedy: 0.05', 'e-greedy: 0.1', 'e-greedy: 0.2']"
   ]
  },
  {
   "cell_type": "code",
   "execution_count": null,
   "id": "confirmed-method",
   "metadata": {},
   "outputs": [],
   "source": [
    "df_reward_comparison[greedy_list].iplot(title=\"e-Greedy Actions\", dash=['solid', 'dash', 'dashdot', 'dot'], xTitle='Impressions', yTitle='Avg Reward')"
   ]
  },
  {
   "cell_type": "markdown",
   "id": "prepared-split",
   "metadata": {},
   "source": [
    "### UCB"
   ]
  },
  {
   "cell_type": "code",
   "execution_count": 44,
   "id": "wanted-debate",
   "metadata": {},
   "outputs": [],
   "source": [
    "c = 10\n",
    "n_prod = 100000\n",
    "n_ads = len(ads)\n",
    "ad_indices = np.array(range(n_ads))\n",
    "Q = np.zeros(n_ads)\n",
    "N = np.zeros(n_ads)\n",
    "total_reward = 0\n",
    "avg_rewards = []"
   ]
  },
  {
   "cell_type": "code",
   "execution_count": 45,
   "id": "immediate-proposition",
   "metadata": {},
   "outputs": [],
   "source": [
    "for t in range(1, n_prod + 1):\n",
    "    if any(N==0):\n",
    "        ad_chosen = np.random.choice(ad_indices[N==0])\n",
    "    else:\n",
    "        uncertainty = np.sqrt(np.log(t) / N)\n",
    "        ad_chosen = np.argmax(Q + c * uncertainty)\n",
    "    R = ads[ad_chosen].display_ad()\n",
    "    N[ad_chosen] += 1\n",
    "    Q[ad_chosen] += (1 / N[ad_chosen]) * (R - Q[ad_chosen])\n",
    "    total_reward += R\n",
    "    avg_reward_so_far = total_reward / t\n",
    "    avg_rewards.append(avg_reward_so_far)\n",
    "df_reward_comparison['UCB, c={}'.format(c)] = avg_rewards"
   ]
  },
  {
   "cell_type": "code",
   "execution_count": 49,
   "id": "material-moscow",
   "metadata": {},
   "outputs": [],
   "source": [
    "ucb_list = ['UCB, c=0.1', 'UCB, c=1', 'UCB, c=10']"
   ]
  },
  {
   "cell_type": "code",
   "execution_count": 50,
   "id": "endangered-novelty",
   "metadata": {},
   "outputs": [],
   "source": [
    "best_reward = df_reward_comparison.loc[t-1, ucb_list].max()"
   ]
  },
  {
   "cell_type": "code",
   "execution_count": null,
   "id": "laden-equipment",
   "metadata": {},
   "outputs": [],
   "source": [
    "df_reward_comparison[ucb_list].iplot(title='Action Selection using UCB. Best avg. reward: {:.4f}'.format(best_reward),\n",
    "                                    dash = ['solid', 'dash', 'dashdot'], xTitle='Impressions', yTitle='Avg. Reward')"
   ]
  },
  {
   "cell_type": "markdown",
   "id": "productive-superintendent",
   "metadata": {},
   "source": [
    "## Thompson Sampling"
   ]
  },
  {
   "cell_type": "code",
   "execution_count": null,
   "id": "bored-instruction",
   "metadata": {},
   "outputs": [],
   "source": [
    "n_prod = 100000\n",
    "n_ads = len(ads)\n",
    "alphas = np.ones(n_ads)\n",
    "betas = np.ones(n_ads)\n",
    "total_reward = 0\n",
    "avg_rewards = []\n",
    "for i in range(n_prod):\n",
    "    theta_samples = [np.random.beta(alphas[k], betas[k]) for k in range(n_ads)]\n",
    "    ad_chosen = np.argmax(theta_samples)\n",
    "    R = ads[ad_chosen].display_ad()\n",
    "    alphas[ad_chosen] += R\n",
    "    betas[ad_chosen] += 1 - R\n",
    "    total_reward += R\n",
    "    avg_reward_so_far = total_reward / (i+1)\n",
    "    avg_rewards.append(avg_reward_so_far)\n",
    "df_reward_comparison['Thompson Sampling'] = avg_rewards\n",
    "\n",
    "df_reward_comparison['Thompson Sampling'].iplot(title=\"Thompson Sampling Avg. Reward: {:.4f}\".format(avg_reward_so_far), xTitle='Impressions', yTitle='Avg. Reward')"
   ]
  }
 ],
 "metadata": {
  "kernelspec": {
   "display_name": "Python 3",
   "language": "python",
   "name": "python3"
  },
  "language_info": {
   "codemirror_mode": {
    "name": "ipython",
    "version": 3
   },
   "file_extension": ".py",
   "mimetype": "text/x-python",
   "name": "python",
   "nbconvert_exporter": "python",
   "pygments_lexer": "ipython3",
   "version": "3.8.6"
  }
 },
 "nbformat": 4,
 "nbformat_minor": 5
}
