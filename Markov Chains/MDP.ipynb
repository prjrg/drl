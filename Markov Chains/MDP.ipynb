{
 "cells": [
  {
   "cell_type": "code",
   "execution_count": 1,
   "id": "billion-hayes",
   "metadata": {},
   "outputs": [],
   "source": [
    "import numpy as np"
   ]
  },
  {
   "cell_type": "code",
   "execution_count": 2,
   "id": "verbal-zambia",
   "metadata": {},
   "outputs": [],
   "source": [
    "m = 3\n",
    "m2 = m ** 2\n",
    "q = np.zeros(m2)\n",
    "q[m2 // 2] = 1"
   ]
  },
  {
   "cell_type": "code",
   "execution_count": 3,
   "id": "theoretical-bubble",
   "metadata": {},
   "outputs": [],
   "source": [
    "def get_P(m, p_up, p_down, p_left, p_right):\n",
    "    m2 = m ** 2\n",
    "    P = np.zeros((m2, m2))\n",
    "    ix_map = {i + 1: (i //m, i % m) for i in range(m2)}\n",
    "    for i in range(m2):\n",
    "        for j in range(m2):\n",
    "            r1, c1 = ix_map[i+1]\n",
    "            r2, c2 = ix_map[j+1]\n",
    "            rdiff = r1 - r2\n",
    "            cdiff = c1 - c2\n",
    "            if rdiff == 0:\n",
    "                if cdiff == 1:\n",
    "                    P[i, j] = p_left\n",
    "                elif cdiff == -1:\n",
    "                    P[i, j] = p_right\n",
    "                elif cdiff == 0:\n",
    "                    if r1 == 0:\n",
    "                        P[i,j] += p_down\n",
    "                    elif r1 == m - 1:\n",
    "                        P[i, j] += p_up\n",
    "                    if c1 == 0: \n",
    "                        P[i, j] += p_left\n",
    "                    elif c1 == m - 1:\n",
    "                        P[i, j] += p_right\n",
    "            elif rdiff == 1:\n",
    "                if cdiff == 0:\n",
    "                    P[i,j] = p_down\n",
    "            elif rdiff == -1:\n",
    "                if cdiff == 0:\n",
    "                    P[i, j] = p_up\n",
    "    return P"
   ]
  },
  {
   "cell_type": "code",
   "execution_count": 4,
   "id": "working-hopkins",
   "metadata": {},
   "outputs": [],
   "source": [
    "P = get_P(3, 0.2, 0.3, 0.25, 0.25)"
   ]
  },
  {
   "cell_type": "code",
   "execution_count": 5,
   "id": "minimal-woman",
   "metadata": {},
   "outputs": [
    {
     "data": {
      "text/plain": [
       "array([0.  , 0.3 , 0.  , 0.25, 0.  , 0.25, 0.  , 0.2 , 0.  ])"
      ]
     },
     "execution_count": 5,
     "metadata": {},
     "output_type": "execute_result"
    }
   ],
   "source": [
    "n = 1\n",
    "Pn = np.linalg.matrix_power(P, n)\n",
    "np.matmul(q, Pn)"
   ]
  },
  {
   "cell_type": "markdown",
   "id": "colored-richmond",
   "metadata": {},
   "source": [
    "### Sample path in an ergodic Markov Chain"
   ]
  },
  {
   "cell_type": "code",
   "execution_count": 6,
   "id": "democratic-tobacco",
   "metadata": {},
   "outputs": [],
   "source": [
    "from scipy.stats import itemfreq"
   ]
  },
  {
   "cell_type": "code",
   "execution_count": 7,
   "id": "static-montgomery",
   "metadata": {},
   "outputs": [
    {
     "name": "stderr",
     "output_type": "stream",
     "text": [
      "<ipython-input-7-13dd9aedb1bc>:8: DeprecationWarning: `itemfreq` is deprecated!\n",
      "`itemfreq` is deprecated and will be removed in a future version. Use instead `np.unique(..., return_counts=True)`\n",
      "  itemfreq(visited)\n"
     ]
    },
    {
     "data": {
      "text/plain": [
       "array([[     0, 157498],\n",
       "       [     1, 156766],\n",
       "       [     2, 158538],\n",
       "       [     3, 105297],\n",
       "       [     4, 105310],\n",
       "       [     5, 106238],\n",
       "       [     6,  69636],\n",
       "       [     7,  70078],\n",
       "       [     8,  70640]])"
      ]
     },
     "execution_count": 7,
     "metadata": {},
     "output_type": "execute_result"
    }
   ],
   "source": [
    "s=4\n",
    "n = 10**6\n",
    "visited = [s]\n",
    "for t in range(n):\n",
    "    s = np.random.choice(m2, p=P[s, :])\n",
    "    visited.append(s)\n",
    "    \n",
    "itemfreq(visited)"
   ]
  },
  {
   "cell_type": "code",
   "execution_count": 8,
   "id": "chicken-theorem",
   "metadata": {},
   "outputs": [],
   "source": [
    "P = np.zeros((m2 + 1, m2 + 1))\n",
    "P[:m2, :m2] = get_P(3, 0.2, 0.3, 0.25, 0.25)\n",
    "for i in range(m2):\n",
    "    P[i, m2] = P[i, i]\n",
    "    P[i, i] = 0\n",
    "P[m2, m2] = 1"
   ]
  },
  {
   "cell_type": "code",
   "execution_count": 9,
   "id": "black-disposition",
   "metadata": {},
   "outputs": [],
   "source": [
    "n = 10 ** 5\n",
    "avg_rewards = np.zeros(m2)\n",
    "for s in range(9):\n",
    "    for i in range(n):\n",
    "        crashed = False\n",
    "        s_next = s\n",
    "        episode_reward = 0\n",
    "        while not crashed:\n",
    "            s_next = np.random.choice(m2 + 1, p=P[s_next, :])\n",
    "            if s_next < m2:\n",
    "                episode_reward += 1\n",
    "            else:\n",
    "                crashed = True\n",
    "        avg_rewards[s] += episode_reward\n",
    "        \n",
    "avg_rewards /= n"
   ]
  },
  {
   "cell_type": "code",
   "execution_count": 10,
   "id": "worthy-peoples",
   "metadata": {},
   "outputs": [],
   "source": [
    "def estimate_state_values(P, m2, threshold):\n",
    "    v = np.zeros(m2 + 1)\n",
    "    max_change = threshold\n",
    "    terminal_state = m2\n",
    "    while max_change >= threshold:\n",
    "        max_change = 0\n",
    "        for s in range(m2 + 1):\n",
    "            v_new = 0\n",
    "            for s_next in range(m2 + 1):\n",
    "                r = 1 * (s_next != terminal_state)\n",
    "                v_new += P[s, s_next] * (r + v[s_next])\n",
    "            max_change = max(max_change, np.abs(v[s] - v_new))\n",
    "            v[s] = v_new\n",
    "    return np.round(v,2)"
   ]
  },
  {
   "cell_type": "code",
   "execution_count": 11,
   "id": "acting-content",
   "metadata": {},
   "outputs": [
    {
     "data": {
      "text/plain": [
       "array([1.46, 2.11, 1.47, 2.44, 3.41, 2.44, 1.98, 2.82, 1.99, 0.  ])"
      ]
     },
     "execution_count": 11,
     "metadata": {},
     "output_type": "execute_result"
    }
   ],
   "source": [
    "estimate_state_values(P, m2, 0.01)"
   ]
  },
  {
   "cell_type": "code",
   "execution_count": null,
   "id": "acquired-tribe",
   "metadata": {},
   "outputs": [],
   "source": []
  }
 ],
 "metadata": {
  "kernelspec": {
   "display_name": "Python 3",
   "language": "python",
   "name": "python3"
  },
  "language_info": {
   "codemirror_mode": {
    "name": "ipython",
    "version": 3
   },
   "file_extension": ".py",
   "mimetype": "text/x-python",
   "name": "python",
   "nbconvert_exporter": "python",
   "pygments_lexer": "ipython3",
   "version": "3.8.6"
  }
 },
 "nbformat": 4,
 "nbformat_minor": 5
}
