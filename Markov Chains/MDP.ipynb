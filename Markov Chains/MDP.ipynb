{
 "cells": [
  {
   "cell_type": "code",
   "execution_count": 1,
   "id": "billion-hayes",
   "metadata": {},
   "outputs": [],
   "source": [
    "import numpy as np"
   ]
  },
  {
   "cell_type": "code",
   "execution_count": 2,
   "id": "verbal-zambia",
   "metadata": {},
   "outputs": [],
   "source": [
    "m = 3\n",
    "m2 = m ** 2\n",
    "q = np.zeros(m2)\n",
    "q[m2 // 2] = 1"
   ]
  },
  {
   "cell_type": "code",
   "execution_count": 5,
   "id": "theoretical-bubble",
   "metadata": {},
   "outputs": [],
   "source": [
    "def get_P(m, p_up, p_down, p_left, p_right):\n",
    "    m2 = m ** 2\n",
    "    P = np.zeros((m2, m2))\n",
    "    ix_map = {i + 1: (i //m, i % m) for i in range(m2)}\n",
    "    for i in range(m2):\n",
    "        for j in range(m2):\n",
    "            r1, c1 = ix_map[i+1]\n",
    "            r2, c2 = ix_map[j+1]\n",
    "            rdiff = r1 - r2\n",
    "            cdiff = c1 - c2\n",
    "            if rdiff == 0:\n",
    "                if cdiff == 1:\n",
    "                    P[i, j] = p_left\n",
    "                elif cdiff == -1:\n",
    "                    P[i, j] = p_right\n",
    "                elif cdiff == 0:\n",
    "                    if r1 == 0:\n",
    "                        P[i,j] += p_down\n",
    "                    elif r1 == m - 1:\n",
    "                        P[i, j] += p_up\n",
    "                    if c1 == 0: \n",
    "                        P[i, j] += p_left\n",
    "                    elif c1 == m - 1:\n",
    "                        P[i, j] += p_right\n",
    "            elif rdiff == 1:\n",
    "                if cdiff == 0:\n",
    "                    P[i,j] = p_down\n",
    "            elif rdiff == -1:\n",
    "                if cdiff == 0:\n",
    "                    P[i, j] = p_up\n",
    "    return P"
   ]
  },
  {
   "cell_type": "code",
   "execution_count": 6,
   "id": "working-hopkins",
   "metadata": {},
   "outputs": [],
   "source": [
    "P = get_P(3, 0.2, 0.3, 0.25, 0.25)"
   ]
  },
  {
   "cell_type": "code",
   "execution_count": 7,
   "id": "minimal-woman",
   "metadata": {},
   "outputs": [
    {
     "data": {
      "text/plain": [
       "array([0.  , 0.3 , 0.  , 0.25, 0.  , 0.25, 0.  , 0.2 , 0.  ])"
      ]
     },
     "execution_count": 7,
     "metadata": {},
     "output_type": "execute_result"
    }
   ],
   "source": [
    "n = 1\n",
    "Pn = np.linalg.matrix_power(P, n)\n",
    "np.matmul(q, Pn)"
   ]
  },
  {
   "cell_type": "markdown",
   "id": "colored-richmond",
   "metadata": {},
   "source": [
    "### Sample path in an ergodic Markov Chain"
   ]
  },
  {
   "cell_type": "code",
   "execution_count": 8,
   "id": "democratic-tobacco",
   "metadata": {},
   "outputs": [],
   "source": [
    "from scipy.stats import itemfreq"
   ]
  },
  {
   "cell_type": "code",
   "execution_count": null,
   "id": "static-montgomery",
   "metadata": {},
   "outputs": [],
   "source": [
    "s=4\n",
    "n = 10**6\n",
    "visited = [s]\n",
    "for t in range(n):\n",
    "    s = np.random.choice(m2, p=P[s, :])\n",
    "    visited.append(s)\n",
    "    \n",
    "itemfreq(visited)"
   ]
  },
  {
   "cell_type": "code",
   "execution_count": null,
   "id": "chicken-theorem",
   "metadata": {},
   "outputs": [],
   "source": []
  }
 ],
 "metadata": {
  "kernelspec": {
   "display_name": "Python 3",
   "language": "python",
   "name": "python3"
  },
  "language_info": {
   "codemirror_mode": {
    "name": "ipython",
    "version": 3
   },
   "file_extension": ".py",
   "mimetype": "text/x-python",
   "name": "python",
   "nbconvert_exporter": "python",
   "pygments_lexer": "ipython3",
   "version": "3.8.6"
  }
 },
 "nbformat": 4,
 "nbformat_minor": 5
}
